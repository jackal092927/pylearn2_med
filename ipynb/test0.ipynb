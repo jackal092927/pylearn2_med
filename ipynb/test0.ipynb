{
 "metadata": {
  "name": "",
  "signature": "sha256:d15abed5196589a93e12d6679f3f0aef9e764cc5cd37a9995385c6ba0bfc2d4e"
 },
 "nbformat": 3,
 "nbformat_minor": 0,
 "worksheets": [
  {
   "cells": [
    {
     "cell_type": "code",
     "collapsed": false,
     "input": [
      "from pylearn2.datasets.mnist import MNIST\n",
      "m = MNIST('train')"
     ],
     "language": "python",
     "metadata": {
      "slideshow": {
       "slide_type": "-"
      }
     },
     "outputs": [],
     "prompt_number": 7
    },
    {
     "cell_type": "code",
     "collapsed": false,
     "input": [
      "import numpy as np\n",
      "a = np.array([1,2,3])\n",
      "print a.shape\n",
      "b = np.reshape(a, (a.shape[0],1))\n",
      "c = np.atleast_2d(a).T\n",
      "c.astype(float)\n",
      "print b.shape, c.shape\n",
      "print b\n",
      "print c"
     ],
     "language": "python",
     "metadata": {},
     "outputs": [
      {
       "output_type": "stream",
       "stream": "stdout",
       "text": [
        "(3,)\n",
        "(3, 1) (3, 1)\n",
        "[[1]\n",
        " [2]\n",
        " [3]]\n",
        "[[1]\n",
        " [2]\n",
        " [3]]\n"
       ]
      }
     ],
     "prompt_number": 22
    },
    {
     "cell_type": "code",
     "collapsed": false,
     "input": [
      "from cin_feature2 import *\n",
      "CIN_FEATURE2('test')"
     ],
     "language": "python",
     "metadata": {},
     "outputs": [
      {
       "output_type": "stream",
       "stream": "stdout",
       "text": [
        "(120, 1)\n"
       ]
      },
      {
       "metadata": {},
       "output_type": "pyout",
       "prompt_number": 14,
       "text": [
        "<cin_feature2.CIN_FEATURE2 at 0x108efad90>"
       ]
      }
     ],
     "prompt_number": 14
    },
    {
     "cell_type": "code",
     "collapsed": false,
     "input": [],
     "language": "python",
     "metadata": {},
     "outputs": []
    }
   ],
   "metadata": {}
  }
 ]
}